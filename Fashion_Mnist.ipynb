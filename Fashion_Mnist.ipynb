{
  "nbformat": 4,
  "nbformat_minor": 0,
  "metadata": {
    "colab": {
      "provenance": [],
      "gpuType": "T4"
    },
    "kernelspec": {
      "name": "python3",
      "display_name": "Python 3"
    },
    "language_info": {
      "name": "python"
    },
    "accelerator": "GPU"
  },
  "cells": [
    {
      "cell_type": "markdown",
      "source": [
        "## **Fashion MNIST Classification with Convolutional Neural Networks**"
      ],
      "metadata": {
        "id": "1oAsBhwco8gD"
      }
    },
    {
      "cell_type": "markdown",
      "source": [
        "### Introduction\n",
        "\n",
        "Welcome to this notebook where we delve into the fascinating world of fashion classification using Convolutional Neural Networks (CNNs). In the realm of computer vision, the Fashion MNIST dataset serves as a benchmark for evaluating and honing the capabilities of image classification models.\n",
        "\n",
        "Fashion MNIST, a more challenging alternative to the traditional handwritten digit MNIST dataset, comprises 70,000 grayscale images of 10 different fashion categories. Each image is a 28x28 pixel representation of various clothing items, such as shoes, shirts, and trousers.\n",
        "\n",
        "In this notebook, we will explore the process of building and training a CNN to accurately classify these fashion items. CNNs have proven to be exceptionally effective in image recognition tasks, making them a natural choice for this endeavor."
      ],
      "metadata": {
        "id": "73R7r_uwpNi7"
      }
    },
    {
      "cell_type": "markdown",
      "source": [
        "**Import all required libraries**"
      ],
      "metadata": {
        "id": "EdfLtK_IK_20"
      }
    },
    {
      "cell_type": "code",
      "source": [
        "import tensorflow as tf\n",
        "from tensorflow.keras import layers, models\n",
        "import numpy as np\n",
        "import matplotlib.pyplot as plt\n",
        "print('import successfully!')"
      ],
      "metadata": {
        "colab": {
          "base_uri": "https://localhost:8080/"
        },
        "id": "5h2L_0jgLMBx",
        "outputId": "b7330124-067f-4ee3-8160-5b18ed92d6e0"
      },
      "execution_count": 41,
      "outputs": [
        {
          "output_type": "stream",
          "name": "stdout",
          "text": [
            "import successfully!\n"
          ]
        }
      ]
    },
    {
      "cell_type": "markdown",
      "source": [
        "### Load Fashion MNIST Training and Testing Datasets\n",
        "\n",
        "In this section, we load the Fashion MNIST dataset for training and testing our Convolutional Neural Network (CNN). The dataset consists of 60,000 training images and 10,000 testing images, each belonging to one of the 10 fashion categories. The `tf.keras.datasets.fashion_mnist.load_data()` function is employed to retrieve the data, and it is split into training and testing sets, represented by `(x_train, y_train)` and `(x_test, y_test)`, respectively.\n",
        "\n",
        "- `x_train`: Training images\n",
        "- `y_train`: Corresponding labels for training images\n",
        "- `x_test`: Testing images\n",
        "- `y_test`: Corresponding labels for testing images\n",
        "\n",
        "These datasets will serve as the foundation for training and evaluating the performance of our CNN on the task of fashion item classification.\n"
      ],
      "metadata": {
        "id": "d_zCtmeLLlzq"
      }
    },
    {
      "cell_type": "code",
      "source": [
        "# Load Fashion MNIST training and testing datasets\n",
        "(x_train, y_train), (x_test, y_test) = tf.keras.datasets.fashion_mnist.load_data()"
      ],
      "metadata": {
        "id": "JHxxTpilLa4M"
      },
      "execution_count": 42,
      "outputs": []
    },
    {
      "cell_type": "markdown",
      "source": [
        "### Display Shapes of Loaded Datasets\n",
        "\n",
        "Here, we print the shapes of the loaded datasets to gain insights into the dimensions of our training and testing data:\n",
        "\n",
        "- `x_train`: Shape of the training images dataset.\n",
        "- `y_train`: Shape of the corresponding labels for the training images.\n",
        "- `x_test`: Shape of the testing images dataset.\n",
        "- `y_test`: Shape of the corresponding labels for the testing images.\n",
        "\n",
        "Understanding these shapes is crucial for setting up and validating our Convolutional Neural Network (CNN) architecture, ensuring compatibility between the model and the input data.\n"
      ],
      "metadata": {
        "id": "O89U5KC2Mm2H"
      }
    },
    {
      "cell_type": "code",
      "source": [
        "# Display the shapes of the loaded datasets\n",
        "print('Shape of the x_train:', x_train.shape)\n",
        "print('Shape of the y_train:', y_train.shape)\n",
        "print('Shape of the x_test:', x_test.shape)\n",
        "print('Shape of the y_test:', y_test.shape)"
      ],
      "metadata": {
        "colab": {
          "base_uri": "https://localhost:8080/"
        },
        "id": "RoC8LzwmMHtX",
        "outputId": "2455634a-1b03-4126-f0a2-a945b52da2e5"
      },
      "execution_count": 57,
      "outputs": [
        {
          "output_type": "stream",
          "name": "stdout",
          "text": [
            "Shape of the x_train: (60000, 28, 28, 1)\n",
            "Shape of the y_train: (60000,)\n",
            "Shape of the x_test: (10000, 28, 28, 1)\n",
            "Shape of the y_test: (10000,)\n"
          ]
        }
      ]
    },
    {
      "cell_type": "markdown",
      "source": [
        "### Display Sample Image from Training Dataset\n",
        "\n",
        "In this section, we visualize a sample image from the training dataset using `plt.matshow()`. This function displays the pixel values of the image in a matrix-like format, providing a visual representation of the first image in the training dataset (`x_train[0]`). This serves as an initial exploration of the dataset, allowing us to inspect the characteristics of the images and gain insights into the underlying patterns that our Convolutional Neural Network (CNN) will learn.\n"
      ],
      "metadata": {
        "id": "frBd1aDyrTw6"
      }
    },
    {
      "cell_type": "code",
      "source": [
        "# Display a sample image from the training dataset\n",
        "plt.matshow(x_train[0])"
      ],
      "metadata": {
        "colab": {
          "base_uri": "https://localhost:8080/",
          "height": 454
        },
        "id": "7EF7A_gWMTVc",
        "outputId": "94451610-d9d7-4947-b047-9d02219473c8"
      },
      "execution_count": 58,
      "outputs": [
        {
          "output_type": "execute_result",
          "data": {
            "text/plain": [
              "<matplotlib.image.AxesImage at 0x780f3f4be890>"
            ]
          },
          "metadata": {},
          "execution_count": 58
        },
        {
          "output_type": "display_data",
          "data": {
            "text/plain": [
              "<Figure size 480x480 with 1 Axes>"
            ],
            "image/png": "[encoded data removed]"
          },
          "metadata": {}
        }
      ]
    },
    {
      "cell_type": "markdown",
      "source": [
        "### Class Labels\n",
        "\n",
        "To enhance the interpretability of our model's predictions, we define class labels corresponding to the 10 fashion categories present in the Fashion MNIST dataset. These labels will be used to map the numerical predictions from our model to their respective clothing item categories.\n",
        "\n",
        "- 'T-shirt/top'\n",
        "- 'Trouser'\n",
        "- 'Pullover'\n",
        "- 'Dress'\n",
        "- 'Coat'\n",
        "- 'Sandal'\n",
        "- 'Shirt'\n",
        "- 'Sneaker'\n",
        "- 'Bag'\n",
        "- 'Ankle boot'\n"
      ],
      "metadata": {
        "id": "p_xREtAmrb-e"
      }
    },
    {
      "cell_type": "code",
      "source": [
        "# Define class labels for better interpretation of results\n",
        "class_labels = ['T-shirt/top', 'Trouser', 'Pullover', 'Dress', 'Coat', 'Sandal', 'Shirt', 'Sneaker', 'Bag', 'Ankle boot']"
      ],
      "metadata": {
        "id": "kxGiolsxNrbF"
      },
      "execution_count": 59,
      "outputs": []
    },
    {
      "cell_type": "markdown",
      "source": [
        "### Display One Image from Each Category in Fashion MNIST\n",
        "\n",
        "In this section, we define a function, `display_images_from_each_category()`, to showcase one representative image from each of the 10 fashion categories in the Fashion MNIST dataset. The function utilizes matplotlib to create a 2x5 grid, with each subplot displaying an image along with its corresponding category label. This visual exploration provides a glimpse into the diverse clothing items present in the dataset, aiding in our understanding of the types of images our Convolutional Neural Network (CNN) will learn to classify."
      ],
      "metadata": {
        "id": "pckNqmMxrrob"
      }
    },
    {
      "cell_type": "code",
      "source": [
        "# Function to display one image from each category in Fashion MNIST\n",
        "def display_images_from_each_category():\n",
        "    # Create a dictionary to store one image for each category\n",
        "    images_by_category = {label: None for label in class_labels}\n",
        "\n",
        "    # Find one image for each category\n",
        "    for label in range(len(class_labels)):\n",
        "        index = next((i for i, value in enumerate(y_train) if value == label), None)\n",
        "        if index is not None:\n",
        "            images_by_category[class_labels[label]] = x_train[index]\n",
        "\n",
        "    # Display one image for each category using matplotlib\n",
        "    fig, axes = plt.subplots(2, 5, figsize=(10, 5))\n",
        "    fig.suptitle(\"One Image from Each Category in Fashion MNIST\", fontsize=16)\n",
        "\n",
        "    for ax, (label, image) in zip(axes.flatten(), images_by_category.items()):\n",
        "        ax.matshow(image)\n",
        "        ax.set_title(label)\n",
        "        ax.axis('off')\n",
        "\n",
        "    plt.show()\n",
        "\n",
        "# Call the function to display images from each category\n",
        "display_images_from_each_category()"
      ],
      "metadata": {
        "colab": {
          "base_uri": "https://localhost:8080/",
          "height": 451
        },
        "id": "2RUDaq7zOxF-",
        "outputId": "bbdf0956-bc90-438a-ae36-dc4d167d4194"
      },
      "execution_count": 60,
      "outputs": [
        {
          "output_type": "display_data",
          "data": {
            "text/plain": [
              "<Figure size 1000x500 with 10 Axes>"
            ],
            "image/png": "[encoded data removed]"
          },
          "metadata": {}
        }
      ]
    },
    {
      "cell_type": "markdown",
      "source": [
        "### Normalize Pixel Values\n",
        "\n",
        "To facilitate the training process of our Convolutional Neural Network (CNN), we normalize the pixel values of the training and testing images. The normalization is performed by dividing each pixel value by 255.0, ensuring that the pixel intensities range from 0 to 1. This step is crucial for standardizing the input data and enhancing the convergence and performance of the model during training.\n"
      ],
      "metadata": {
        "id": "cZlgVgnZr5fl"
      }
    },
    {
      "cell_type": "code",
      "source": [
        "# Normalize pixel values of training and testing images to be between 0 and 1\n",
        "x_train = x_train / 255.0\n",
        "x_test = x_test / 255.0"
      ],
      "metadata": {
        "id": "tuoBA_5yr9Ux"
      },
      "execution_count": 61,
      "outputs": []
    },
    {
      "cell_type": "markdown",
      "source": [
        "### Check Pixel Values After Scaling\n",
        "\n",
        "In this section, we verify the pixel values of the first image in the training dataset (`x_train[0]`) after scaling. The pixel values should now fall within the range of 0 to 1 due to the normalization process. This check ensures that the scaling operation has been successfully applied to the entire dataset, aligning with the desired input format for our Convolutional Neural Network (CNN)."
      ],
      "metadata": {
        "id": "0dhcBK4ssHJ4"
      }
    },
    {
      "cell_type": "code",
      "source": [
        "# Check pixel values after scaling (should be between 0 and 1)\n",
        "x_train[0]"
      ],
      "metadata": {
        "id": "HqWgIvnfT4ph"
      },
      "execution_count": null,
      "outputs": []
    },
    {
      "cell_type": "markdown",
      "source": [
        "### Add Channel Dimension to Images\n",
        "\n",
        "To meet the input requirements of our Convolutional Neural Network (CNN), we reshape the training and testing images by adding a channel dimension. The reshaping is done using the `reshape` function, ensuring that each image has the shape (28, 28, 1). This step is essential for compatibility with the convolutional layers of the CNN, which expect input images in a 3D format with height, width, and channel dimensions.\n"
      ],
      "metadata": {
        "id": "7tC9QEnFsaGg"
      }
    },
    {
      "cell_type": "code",
      "source": [
        "# Add channel dimension to the images as required\n",
        "x_train = x_train.reshape(x_train.shape[0], 28, 28, 1)\n",
        "x_test = x_test.reshape(x_test.shape[0], 28, 28, 1)"
      ],
      "metadata": {
        "id": "xyXR7wP_UF5b"
      },
      "execution_count": 50,
      "outputs": []
    },
    {
      "cell_type": "markdown",
      "source": [
        "### Define Convolutional Neural Network (CNN) Model\n",
        "\n",
        "We define our Convolutional Neural Network (CNN) model using the Sequential API provided by TensorFlow's Keras. The model comprises a series of convolutional layers, max-pooling layers, and densely connected layers. Here is a brief overview of the model architecture:\n",
        "\n",
        "1. Convolutional Layer (32 filters, 3x3 kernel, ReLU activation)\n",
        "2. MaxPooling Layer (2x2 pool size)\n",
        "3. Convolutional Layer (64 filters, 3x3 kernel, ReLU activation)\n",
        "4. MaxPooling Layer (2x2 pool size)\n",
        "5. Convolutional Layer (120 filters, 3x3 kernel, ReLU activation)\n",
        "6. MaxPooling Layer (2x2 pool size)\n",
        "7. Flatten Layer\n",
        "8. Dense Layer (64 units, ReLU activation)\n",
        "9. Dense Layer (10 units, Softmax activation)\n",
        "\n",
        "This architecture is designed to learn hierarchical features from the Fashion MNIST dataset, leading to effective classification of clothing items into their respective categories.\n"
      ],
      "metadata": {
        "id": "InFusqpfsk3N"
      }
    },
    {
      "cell_type": "code",
      "source": [
        "# Define the CNN model using Sequential API\n",
        "model = models.Sequential([\n",
        "    layers.Conv2D(32, (3, 3), activation='relu', input_shape=(28, 28, 1)),\n",
        "    layers.MaxPooling2D((2, 2)),\n",
        "    layers.Conv2D(64, (3, 3), activation='relu'),\n",
        "    layers.MaxPooling2D((2, 2)),\n",
        "    layers.Conv2D(120, (3, 3), activation='relu'),\n",
        "    layers.MaxPooling2D((2, 2)),\n",
        "    layers.Flatten(),\n",
        "    layers.Dense(64, activation='relu'),\n",
        "    layers.Dense(10, activation='softmax')\n",
        "])"
      ],
      "metadata": {
        "id": "wKLbvJd6sqHC"
      },
      "execution_count": 63,
      "outputs": []
    },
    {
      "cell_type": "markdown",
      "source": [
        "### Compile Convolutional Neural Network (CNN) Model\n",
        "\n",
        "Before training the model, we compile it using the `compile` method. The compilation involves specifying the optimizer, loss function, and evaluation metric(s). In this case:\n",
        "\n",
        "- **Optimizer:** Adam optimizer, a popular choice for training deep neural networks.\n",
        "- **Loss Function:** Sparse categorical crossentropy, suitable for multi-class classification problems with integer labels.\n",
        "- **Metrics:** Accuracy, providing insight into the model's performance during training and evaluation.\n",
        "\n",
        "This step prepares the model for training by configuring its learning process.\n"
      ],
      "metadata": {
        "id": "NTsm7m4bf2zB"
      }
    },
    {
      "cell_type": "code",
      "source": [
        "# Compile the CNN model\n",
        "model.compile(optimizer='adam',\n",
        "              loss='sparse_categorical_crossentropy',\n",
        "              metrics=['accuracy'])"
      ],
      "metadata": {
        "id": "TJ1dq2rZheHT"
      },
      "execution_count": 64,
      "outputs": []
    },
    {
      "cell_type": "markdown",
      "source": [
        "### Train Convolutional Neural Network (CNN) Model\n",
        "\n",
        "We initiate the training of our CNN model using the `fit` method. The training process involves providing the training images (`x_train`) and corresponding labels (`y_train`). Additionally, we specify the batch size (200), the number of epochs (42), and the validation data to assess the model's performance on the testing dataset (`x_test`, `y_test`).\n",
        "\n",
        "- **Batch Size:** 200, indicating the number of samples processed in each iteration during training.\n",
        "- **Epochs:** 42, representing the number of times the entire training dataset is passed through the model.\n",
        "- **Validation Data:** Evaluation of the model's performance on the testing dataset during training.\n",
        "\n",
        "This step iteratively adjusts the model's parameters to optimize its ability to classify fashion items accurately.\n"
      ],
      "metadata": {
        "id": "KIOhqigkiPZY"
      }
    },
    {
      "cell_type": "code",
      "source": [
        "# Train the CNN model\n",
        "model.fit(x_train, y_train, batch_size=200, epochs=42, validation_data=(x_test, y_test))"
      ],
      "metadata": {
        "colab": {
          "base_uri": "https://localhost:8080/"
        },
        "id": "Ujq6zZsKizLP",
        "outputId": "fac8a57a-9d49-45ab-b8cc-d7e28b3d8da7"
      },
      "execution_count": 65,
      "outputs": [
        {
          "output_type": "stream",
          "name": "stdout",
          "text": [
            "Epoch 1/42\n",
            "300/300 [==============================] - 4s 8ms/step - loss: 1.4697 - accuracy: 0.4541 - val_loss: 0.9827 - val_accuracy: 0.6282\n",
            "Epoch 2/42\n",
            "300/300 [==============================] - 2s 6ms/step - loss: 0.9001 - accuracy: 0.6661 - val_loss: 0.8621 - val_accuracy: 0.6774\n",
            "Epoch 3/42\n",
            "300/300 [==============================] - 2s 6ms/step - loss: 0.8047 - accuracy: 0.6964 - val_loss: 0.8150 - val_accuracy: 0.6914\n",
            "Epoch 4/42\n",
            "300/300 [==============================] - 2s 6ms/step - loss: 0.7610 - accuracy: 0.7140 - val_loss: 0.7549 - val_accuracy: 0.7128\n",
            "Epoch 5/42\n",
            "300/300 [==============================] - 2s 6ms/step - loss: 0.7221 - accuracy: 0.7298 - val_loss: 0.7255 - val_accuracy: 0.7314\n",
            "Epoch 6/42\n",
            "300/300 [==============================] - 2s 6ms/step - loss: 0.6852 - accuracy: 0.7442 - val_loss: 0.6869 - val_accuracy: 0.7483\n",
            "Epoch 7/42\n",
            "300/300 [==============================] - 2s 5ms/step - loss: 0.6507 - accuracy: 0.7589 - val_loss: 0.6695 - val_accuracy: 0.7498\n",
            "Epoch 8/42\n",
            "300/300 [==============================] - 2s 7ms/step - loss: 0.6202 - accuracy: 0.7707 - val_loss: 0.6365 - val_accuracy: 0.7682\n",
            "Epoch 9/42\n",
            "300/300 [==============================] - 2s 7ms/step - loss: 0.5943 - accuracy: 0.7795 - val_loss: 0.6400 - val_accuracy: 0.7620\n",
            "Epoch 10/42\n",
            "300/300 [==============================] - 2s 6ms/step - loss: 0.5787 - accuracy: 0.7868 - val_loss: 0.6044 - val_accuracy: 0.7794\n",
            "Epoch 11/42\n",
            "300/300 [==============================] - 2s 6ms/step - loss: 0.5609 - accuracy: 0.7923 - val_loss: 0.5766 - val_accuracy: 0.7874\n",
            "Epoch 12/42\n",
            "300/300 [==============================] - 2s 6ms/step - loss: 0.5481 - accuracy: 0.7984 - val_loss: 0.5722 - val_accuracy: 0.7905\n",
            "Epoch 13/42\n",
            "300/300 [==============================] - 2s 6ms/step - loss: 0.5392 - accuracy: 0.8003 - val_loss: 0.5564 - val_accuracy: 0.7988\n",
            "Epoch 14/42\n",
            "300/300 [==============================] - 2s 8ms/step - loss: 0.5267 - accuracy: 0.8059 - val_loss: 0.5692 - val_accuracy: 0.7902\n",
            "Epoch 15/42\n",
            "300/300 [==============================] - 2s 6ms/step - loss: 0.5154 - accuracy: 0.8090 - val_loss: 0.5403 - val_accuracy: 0.8050\n",
            "Epoch 16/42\n",
            "300/300 [==============================] - 2s 7ms/step - loss: 0.5041 - accuracy: 0.8145 - val_loss: 0.5288 - val_accuracy: 0.8083\n",
            "Epoch 17/42\n",
            "300/300 [==============================] - 2s 6ms/step - loss: 0.4943 - accuracy: 0.8182 - val_loss: 0.5149 - val_accuracy: 0.8115\n",
            "Epoch 18/42\n",
            "300/300 [==============================] - 2s 6ms/step - loss: 0.4856 - accuracy: 0.8217 - val_loss: 0.5137 - val_accuracy: 0.8136\n",
            "Epoch 19/42\n",
            "300/300 [==============================] - 2s 7ms/step - loss: 0.4780 - accuracy: 0.8236 - val_loss: 0.5217 - val_accuracy: 0.8114\n",
            "Epoch 20/42\n",
            "300/300 [==============================] - 2s 7ms/step - loss: 0.4719 - accuracy: 0.8278 - val_loss: 0.4984 - val_accuracy: 0.8232\n",
            "Epoch 21/42\n",
            "300/300 [==============================] - 2s 6ms/step - loss: 0.4615 - accuracy: 0.8310 - val_loss: 0.4936 - val_accuracy: 0.8190\n",
            "Epoch 22/42\n",
            "300/300 [==============================] - 2s 7ms/step - loss: 0.4553 - accuracy: 0.8330 - val_loss: 0.4787 - val_accuracy: 0.8264\n",
            "Epoch 23/42\n",
            "300/300 [==============================] - 3s 11ms/step - loss: 0.4471 - accuracy: 0.8367 - val_loss: 0.4735 - val_accuracy: 0.8258\n",
            "Epoch 24/42\n",
            "300/300 [==============================] - 2s 6ms/step - loss: 0.4406 - accuracy: 0.8378 - val_loss: 0.4696 - val_accuracy: 0.8296\n",
            "Epoch 25/42\n",
            "300/300 [==============================] - 2s 6ms/step - loss: 0.4343 - accuracy: 0.8399 - val_loss: 0.4650 - val_accuracy: 0.8280\n",
            "Epoch 26/42\n",
            "300/300 [==============================] - 2s 6ms/step - loss: 0.4305 - accuracy: 0.8426 - val_loss: 0.4592 - val_accuracy: 0.8326\n",
            "Epoch 27/42\n",
            "300/300 [==============================] - 2s 6ms/step - loss: 0.4234 - accuracy: 0.8437 - val_loss: 0.4574 - val_accuracy: 0.8344\n",
            "Epoch 28/42\n",
            "300/300 [==============================] - 2s 6ms/step - loss: 0.4178 - accuracy: 0.8456 - val_loss: 0.4715 - val_accuracy: 0.8275\n",
            "Epoch 29/42\n",
            "300/300 [==============================] - 2s 8ms/step - loss: 0.4148 - accuracy: 0.8470 - val_loss: 0.4475 - val_accuracy: 0.8412\n",
            "Epoch 30/42\n",
            "300/300 [==============================] - 4s 13ms/step - loss: 0.4106 - accuracy: 0.8488 - val_loss: 0.4515 - val_accuracy: 0.8356\n",
            "Epoch 31/42\n",
            "300/300 [==============================] - 2s 6ms/step - loss: 0.4025 - accuracy: 0.8529 - val_loss: 0.4448 - val_accuracy: 0.8405\n",
            "Epoch 32/42\n",
            "300/300 [==============================] - 2s 6ms/step - loss: 0.4013 - accuracy: 0.8510 - val_loss: 0.4362 - val_accuracy: 0.8454\n",
            "Epoch 33/42\n",
            "300/300 [==============================] - 2s 5ms/step - loss: 0.3978 - accuracy: 0.8526 - val_loss: 0.4340 - val_accuracy: 0.8416\n",
            "Epoch 34/42\n",
            "300/300 [==============================] - 2s 6ms/step - loss: 0.3916 - accuracy: 0.8552 - val_loss: 0.4291 - val_accuracy: 0.8429\n",
            "Epoch 35/42\n",
            "300/300 [==============================] - 2s 6ms/step - loss: 0.3889 - accuracy: 0.8569 - val_loss: 0.4277 - val_accuracy: 0.8444\n",
            "Epoch 36/42\n",
            "300/300 [==============================] - 2s 7ms/step - loss: 0.3847 - accuracy: 0.8584 - val_loss: 0.4320 - val_accuracy: 0.8402\n",
            "Epoch 37/42\n",
            "300/300 [==============================] - 2s 7ms/step - loss: 0.3815 - accuracy: 0.8588 - val_loss: 0.4294 - val_accuracy: 0.8418\n",
            "Epoch 38/42\n",
            "300/300 [==============================] - 2s 6ms/step - loss: 0.3782 - accuracy: 0.8612 - val_loss: 0.4132 - val_accuracy: 0.8505\n",
            "Epoch 39/42\n",
            "300/300 [==============================] - 2s 6ms/step - loss: 0.3750 - accuracy: 0.8629 - val_loss: 0.4119 - val_accuracy: 0.8510\n",
            "Epoch 40/42\n",
            "300/300 [==============================] - 2s 5ms/step - loss: 0.3716 - accuracy: 0.8641 - val_loss: 0.4274 - val_accuracy: 0.8434\n",
            "Epoch 41/42\n",
            "300/300 [==============================] - 2s 6ms/step - loss: 0.3657 - accuracy: 0.8650 - val_loss: 0.4196 - val_accuracy: 0.8496\n",
            "Epoch 42/42\n",
            "300/300 [==============================] - 2s 6ms/step - loss: 0.3636 - accuracy: 0.8661 - val_loss: 0.4316 - val_accuracy: 0.8489\n"
          ]
        },
        {
          "output_type": "execute_result",
          "data": {
            "text/plain": [
              "<keras.src.callbacks.History at 0x780f3f0d60b0>"
            ]
          },
          "metadata": {},
          "execution_count": 65
        }
      ]
    },
    {
      "cell_type": "markdown",
      "source": [
        "### Evaluate Convolutional Neural Network (CNN) Model\n",
        "\n",
        "We assess the performance of our trained CNN model on the testing dataset using the `evaluate` method. The model is evaluated in terms of its loss and accuracy on the unseen data. The obtained test accuracy is then printed for a quantitative measure of the model's classification performance on the Fashion MNIST testing dataset.\n"
      ],
      "metadata": {
        "id": "q81m8pPejhqM"
      }
    },
    {
      "cell_type": "code",
      "source": [
        "# Evaluate the CNN model on the testing dataset\n",
        "test_loss, test_acc = model.evaluate(x_test, y_test)\n",
        "print(f'The test accuracy is: {test_acc}')"
      ],
      "metadata": {
        "colab": {
          "base_uri": "https://localhost:8080/"
        },
        "id": "vqE_jzgEkV8U",
        "outputId": "e5970613-eb91-4d11-b9ab-7c03792778ba"
      },
      "execution_count": 55,
      "outputs": [
        {
          "output_type": "stream",
          "name": "stdout",
          "text": [
            "313/313 [==============================] - 1s 3ms/step - loss: 0.5365 - accuracy: 0.8910\n",
            "The test accuracy is: 0.890999972820282\n"
          ]
        }
      ]
    },
    {
      "cell_type": "markdown",
      "source": [
        "### Save Trained Convolutional Neural Network (CNN) Model\n",
        "\n",
        "After training, we save the trained CNN model to a file named 'fashion_mnist_trained.h5'. This enables us to reuse the model for future predictions or further analysis without the need to retrain it. Saving the model in this way preserves its architecture, weights, and configuration.\n"
      ],
      "metadata": {
        "id": "fCge69ZptjvL"
      }
    },
    {
      "cell_type": "code",
      "source": [
        "# Save the trained Convolutional Neural Network (CNN) model\n",
        "# model.save('fashion_mnist_trained.h5')"
      ],
      "metadata": {
        "id": "UskLEI7jkn50"
      },
      "execution_count": 67,
      "outputs": []
    },
    {
      "cell_type": "markdown",
      "source": [
        "## **Hope this Notebook is helpful. Upvote if you Like it.**"
      ],
      "metadata": {
        "id": "HJB-ddf3t0e3"
      }
    },
    {
      "cell_type": "code",
      "source": [],
      "metadata": {
        "id": "TuIS3dvxlWkC"
      },
      "execution_count": null,
      "outputs": []
    }
  ]
}